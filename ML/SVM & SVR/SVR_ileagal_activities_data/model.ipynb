{
 "cells": [
  {
   "cell_type": "code",
   "execution_count": 1,
   "metadata": {},
   "outputs": [],
   "source": [
    "import numpy as np\n",
    "import pandas as pd\n",
    "from sklearn import svm,preprocessing\n"
   ]
  },
  {
   "cell_type": "code",
   "execution_count": 2,
   "metadata": {},
   "outputs": [],
   "source": [
    "#incarcare date\n",
    "data = pd.read_csv('CommViolPredUnnormalizedData.csv')\n",
    "data = data.dropna()\n",
    "\n",
    "\n",
    "date = np.array(data.drop(\n",
    "    ['communityname', 'state', 'countyCode', 'communityCode', 'fold', 'murders', 'murdPerPop', 'rapes', 'rapesPerPop',\n",
    "     'robberies', 'robbPerPop', 'assaults', 'assaultPerPop', 'burglaries', 'burglPerPop', 'larcenies', 'larcPerPop',\n",
    "     'autoTheft', 'autoTheftPerPop', 'arsons', 'arsonsPerPop', 'ViolentCrimesPerPop', 'nonViolPerPop'], axis=1))\n"
   ]
  },
  {
   "cell_type": "code",
   "execution_count": 4,
   "metadata": {},
   "outputs": [],
   "source": [
    "y = np.array(data['larcenies'].values)\n",
    "\n",
    "\n",
    "size = len(data['communityname'])\n",
    "train_size = int(0.75 * size)\n",
    "\n",
    "#date train\n",
    "date_train = date[:train_size]\n",
    "y_train = y[:train_size]\n",
    "\n",
    "#date test\n",
    "date_test = date[train_size:]\n",
    "y_test = y[train_size:]\n",
    "\n",
    "date_train = preprocessing.scale(date_train)\n",
    "date_test = preprocessing.scale(date_test)"
   ]
  },
  {
   "cell_type": "code",
   "execution_count": 5,
   "metadata": {},
   "outputs": [
    {
     "name": "stdout",
     "output_type": "stream",
     "text": [
      "\n",
      "O parte din predictiile facute, comparate cu valorile reale:\n",
      "Varsta prezisa: 2425.2656469686126  Varsta reala: 1440.0\n",
      "Varsta prezisa: 4351.190126212294  Varsta reala: 25553.0\n",
      "Varsta prezisa: 3522.098216082996  Varsta reala: 2608.0\n",
      "Varsta prezisa: 4734.544853262145  Varsta reala: 31466.0\n",
      "Varsta prezisa: 2164.277380589737  Varsta reala: 822.0\n",
      "Varsta prezisa: 2249.0793293676334  Varsta reala: 1157.0\n",
      "Varsta prezisa: 2976.390090560626  Varsta reala: 2301.0\n",
      "Varsta prezisa: 1764.5308251781128  Varsta reala: 2444.0\n",
      "Varsta prezisa: 2122.0210003829816  Varsta reala: 1378.0\n",
      "Varsta prezisa: 1910.2701543071953  Varsta reala: 1045.0\n",
      "Varsta prezisa: 3429.0471548121213  Varsta reala: 6331.0\n",
      "Varsta prezisa: 3234.3297042760487  Varsta reala: 4014.0\n",
      "Varsta prezisa: 3293.5704096002687  Varsta reala: 2653.0\n",
      "Varsta prezisa: 2486.9413822385286  Varsta reala: 5682.0\n",
      "Varsta prezisa: 3681.9594782579125  Varsta reala: 13017.0\n"
     ]
    }
   ],
   "source": [
    "regressor = svm.SVR(kernel=\"linear\").fit(date_train, y_train)\n",
    "predictie = regressor.predict(date_test)\n",
    "\n",
    "print('\\nO parte din predictiile facute, comparate cu valorile reale:')\n",
    "for i in range(15):\n",
    "    print(f\"Varsta prezisa: {predictie[i]}  Varsta reala: {y_test[i]}\")"
   ]
  }
 ],
 "metadata": {
  "kernelspec": {
   "display_name": "Python 3",
   "language": "python",
   "name": "python3"
  },
  "language_info": {
   "codemirror_mode": {
    "name": "ipython",
    "version": 3
   },
   "file_extension": ".py",
   "mimetype": "text/x-python",
   "name": "python",
   "nbconvert_exporter": "python",
   "pygments_lexer": "ipython3",
   "version": "3.11.0"
  },
  "orig_nbformat": 4,
  "vscode": {
   "interpreter": {
    "hash": "ead1b95f633dc9c51826328e1846203f51a198c6fb5f2884a80417ba131d4e82"
   }
  }
 },
 "nbformat": 4,
 "nbformat_minor": 2
}
