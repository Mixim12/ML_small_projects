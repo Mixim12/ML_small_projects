{
 "cells": [
  {
   "cell_type": "code",
   "execution_count": 1,
   "metadata": {},
   "outputs": [],
   "source": [
    "from sklearn import ensemble, svm\n",
    "import pandas as pd\n",
    "from sklearn.metrics import mean_squared_error\n",
    "\n",
    "\n",
    "df = pd.read_csv('students.csv')\n",
    "\n",
    "df = pd.get_dummies(df, columns=['Mjob', 'Fjob', 'reason', 'guardian'])\n",
    "\n",
    "#df = df.drop(columns=['G1','G2'])\n",
    "\n"
   ]
  },
  {
   "cell_type": "code",
   "execution_count": 2,
   "metadata": {},
   "outputs": [],
   "source": [
    "X_train = df.sample(frac=0.75)\n",
    "\n",
    "X_test = df.drop(X_train.index)\n",
    "\n",
    "Y_train, Y_test = X_train.pop('G3') , X_test.pop('G3')"
   ]
  },
  {
   "cell_type": "code",
   "execution_count": 3,
   "metadata": {},
   "outputs": [
    {
     "name": "stdout",
     "output_type": "stream",
     "text": [
      "Poly:\n",
      "Cost: 1  MSE 2.4970408414884218\n",
      "Cost: 0.1  MSE 0.9893656251096716\n",
      "Cost: 0.01  MSE 0.8516420042194487\n",
      "Cost: 0.001  MSE 1.2570169369208097\n",
      "Cost: 0.0001  MSE 1.8646816401223207\n",
      "\n",
      "Linear:\n",
      "Cost: 0.03125  MSE 0.7067812189847269\n",
      "Cost: 0.125  MSE 0.7200244529203966\n",
      "Cost: 0.5  MSE 0.7230186633532413\n",
      "Cost: 2  MSE 0.7229227126141079\n",
      "Cost: 8  MSE 0.722866712892867\n",
      "Cost: 32  MSE 0.7240396404224446\n",
      "Cost: 128  MSE 0.7240393362406287\n"
     ]
    }
   ],
   "source": [
    "c = [1,0.1,1e-2,1e-3,1e-4]\n",
    "\n",
    "print(\"Poly:\")\n",
    "\n",
    "for i in range(0,len(c)):\n",
    "    model = svm.SVR(kernel=\"poly\",C=c[i],gamma='auto').fit(X_train,Y_train)\n",
    "\n",
    "    pred = model.predict(X_test)\n",
    "\n",
    "    print(\"Cost:\",c[i],\" MSE\", mean_squared_error(Y_test,pred))\n",
    "\n",
    "c = list(range(-5,8,2))\n",
    "\n",
    "\n",
    "print(\"\\nLinear:\")\n",
    "\n",
    "for i in range(0,len(c)):\n",
    "    model = svm.SVR(kernel=\"linear\",C=2**c[i],gamma='auto').fit(X_train,Y_train)\n",
    "\n",
    "    pred = model.predict(X_test)\n",
    "\n",
    "    print(\"Cost:\",2**c[i],\" MSE\", mean_squared_error(Y_test,pred))\n",
    "\n"
   ]
  },
  {
   "cell_type": "code",
   "execution_count": 4,
   "metadata": {},
   "outputs": [
    {
     "name": "stdout",
     "output_type": "stream",
     "text": [
      "For in-bag: 0.25 and node dimension: 0.1 \n",
      "MSE =  4.873627883220801 \n",
      "\n",
      "For in-bag: 0.25 and node dimension: 0.5 \n",
      "MSE =  1.0430864197530862 \n",
      "\n",
      "For in-bag: 0.25 and node dimension: 0.8 \n",
      "MSE =  1.3821604938271606 \n",
      "\n",
      "For in-bag: 0.5 and node dimension: 0.1 \n",
      "MSE =  8.243336300563351 \n",
      "\n",
      "For in-bag: 0.5 and node dimension: 0.5 \n",
      "MSE =  1.5564197530864197 \n",
      "\n",
      "For in-bag: 0.5 and node dimension: 0.8 \n",
      "MSE =  1.1583333333333334 \n",
      "\n",
      "For in-bag: 0.85 and node dimension: 0.1 \n",
      "MSE =  5.3486916060508936 \n",
      "\n",
      "For in-bag: 0.85 and node dimension: 0.5 \n",
      "MSE =  1.5000308641975308 \n",
      "\n",
      "For in-bag: 0.85 and node dimension: 0.8 \n",
      "MSE =  0.9832098765432099 \n",
      "\n"
     ]
    }
   ],
   "source": [
    "bag = [0.25,0.5,0.85]\n",
    "dim = [0.1,0.5,0.8]\n",
    "\n",
    "for boot in bag:\n",
    "    for d in dim:\n",
    "        secmodel = ensemble.BaggingRegressor(base_estimator=None, n_estimators=10, max_samples=boot, max_features=d, bootstrap=True,\n",
    "                                                    ).fit(X_train,Y_train)\n",
    "        secpred = secmodel.predict(X_test)\n",
    "        \n",
    "        print(\"For in-bag:\",boot,\"and node dimension:\",d,\"\\nMSE = \" , mean_squared_error(Y_test,secpred),'\\n')\n",
    "\n"
   ]
  }
 ],
 "metadata": {
  "kernelspec": {
   "display_name": "Python 3.11.0rc1 64-bit",
   "language": "python",
   "name": "python3"
  },
  "language_info": {
   "codemirror_mode": {
    "name": "ipython",
    "version": 3
   },
   "file_extension": ".py",
   "mimetype": "text/x-python",
   "name": "python",
   "nbconvert_exporter": "python",
   "pygments_lexer": "ipython3",
   "version": "3.11.0"
  },
  "orig_nbformat": 4,
  "vscode": {
   "interpreter": {
    "hash": "ead1b95f633dc9c51826328e1846203f51a198c6fb5f2884a80417ba131d4e82"
   }
  }
 },
 "nbformat": 4,
 "nbformat_minor": 2
}
