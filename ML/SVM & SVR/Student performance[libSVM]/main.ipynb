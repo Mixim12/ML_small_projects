{
 "cells": [
  {
   "cell_type": "code",
   "execution_count": 30,
   "metadata": {},
   "outputs": [],
   "source": [
    "import pandas as pd\n",
    "from sklearn.metrics import mean_squared_error\n",
    "from sklearn import ensemble, svm\n"
   ]
  },
  {
   "cell_type": "code",
   "execution_count": 31,
   "metadata": {},
   "outputs": [],
   "source": [
    "df = pd.read_csv('students_scaled.csv')\n",
    "\n",
    "df = pd.get_dummies(df, columns=['Mjob', 'Fjob', 'reason', 'guardian'])\n"
   ]
  },
  {
   "cell_type": "code",
   "execution_count": 32,
   "metadata": {},
   "outputs": [],
   "source": [
    "X_train = df.sample(frac=0.75)\n",
    "\n",
    "X_test = df.drop(X_train.index)\n",
    "\n",
    "Y_train, Y_test = X_train.pop('G3') , X_test.pop('G3')"
   ]
  },
  {
   "cell_type": "code",
   "execution_count": 33,
   "metadata": {},
   "outputs": [
    {
     "name": "stdout",
     "output_type": "stream",
     "text": [
      "Poly:\n",
      "Cost: 1  MSE 0.01650083492153386\n",
      "Cost: 0.1  MSE 0.025490311933078498\n",
      "Cost: 0.01  MSE 0.027712909144370777\n",
      "Cost: 0.001  MSE 0.028152811220318354\n",
      "Cost: 0.0001  MSE 0.028195698197908445\n",
      "\n",
      "Linear:\n",
      "Cost: 0.03125  MSE 0.00757547832196297\n",
      "Cost: 0.125  MSE 0.0066372981838563215\n",
      "Cost: 0.5  MSE 0.005853135879486375\n",
      "Cost: 2  MSE 0.0056144512143785335\n",
      "Cost: 8  MSE 0.005569467505164355\n",
      "Cost: 32  MSE 0.005603080474044481\n",
      "Cost: 128  MSE 0.00557259889384394\n",
      "\n",
      "RBF:\n",
      "Cost: 0.03125  MSE 0.021291411446620157\n",
      "Cost: 0.125  MSE 0.014177965792523464\n",
      "Cost: 0.5  MSE 0.009548213811301264\n",
      "Cost: 2  MSE 0.007728924664511427\n",
      "Cost: 8  MSE 0.00820915826461813\n",
      "Cost: 32  MSE 0.008290722497909252\n",
      "Cost: 128  MSE 0.008290722497909252\n"
     ]
    }
   ],
   "source": [
    "c = [1,0.1,1e-2,1e-3,1e-4]\n",
    "\n",
    "print(\"Poly:\")\n",
    "\n",
    "for i in range(0,len(c)):\n",
    "    model = svm.SVR(kernel=\"poly\",C=c[i],gamma='auto').fit(X_train,Y_train)\n",
    "\n",
    "    pred = model.predict(X_test)\n",
    "\n",
    "    print(\"Cost:\",c[i],\" MSE\", mean_squared_error(Y_test,pred))\n",
    "\n",
    "c = list(range(-5,8,2))\n",
    "\n",
    "\n",
    "print(\"\\nLinear:\")\n",
    "\n",
    "for i in range(0,len(c)):\n",
    "    model = svm.SVR(kernel=\"linear\",C=2**c[i],gamma='auto').fit(X_train,Y_train)\n",
    "\n",
    "    pred = model.predict(X_test)\n",
    "\n",
    "    print(\"Cost:\",2**c[i],\" MSE\", mean_squared_error(Y_test,pred))\n",
    "\n",
    "print(\"\\nRBF:\")\n",
    "\n",
    "for i in range(0,len(c)):\n",
    "    model = svm.SVR(kernel=\"rbf\",C=2**c[i],gamma='auto').fit(X_train,Y_train)\n",
    "\n",
    "    pred = model.predict(X_test)\n",
    "\n",
    "    print(\"Cost:\",2**c[i],\" MSE\", mean_squared_error(Y_test,pred))\n",
    "\n"
   ]
  }
 ],
 "metadata": {
  "kernelspec": {
   "display_name": "Python 3",
   "language": "python",
   "name": "python3"
  },
  "language_info": {
   "codemirror_mode": {
    "name": "ipython",
    "version": 3
   },
   "file_extension": ".py",
   "mimetype": "text/x-python",
   "name": "python",
   "nbconvert_exporter": "python",
   "pygments_lexer": "ipython3",
   "version": "3.11.0"
  },
  "orig_nbformat": 4,
  "vscode": {
   "interpreter": {
    "hash": "ead1b95f633dc9c51826328e1846203f51a198c6fb5f2884a80417ba131d4e82"
   }
  }
 },
 "nbformat": 4,
 "nbformat_minor": 2
}
