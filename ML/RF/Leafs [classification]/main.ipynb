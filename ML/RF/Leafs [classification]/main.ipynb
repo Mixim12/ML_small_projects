{
 "cells": [
  {
   "cell_type": "code",
   "execution_count": 1,
   "metadata": {},
   "outputs": [],
   "source": [
    "from sklearn import ensemble\n",
    "import pandas as pd\n",
    "import sklearn.metrics"
   ]
  },
  {
   "cell_type": "code",
   "execution_count": 7,
   "metadata": {},
   "outputs": [],
   "source": [
    "df = pd.read_csv('leafs.csv')\n"
   ]
  },
  {
   "cell_type": "code",
   "execution_count": 8,
   "metadata": {},
   "outputs": [],
   "source": [
    "X_train = df.sample(frac=0.75)\n",
    "\n",
    "X_test = df.drop(X_train.index)\n",
    "\n",
    "Y_train, Y_test = X_train.pop('Class') , X_test.pop('Class')"
   ]
  },
  {
   "cell_type": "code",
   "execution_count": 9,
   "metadata": {},
   "outputs": [
    {
     "name": "stdout",
     "output_type": "stream",
     "text": [
      "For in-bag: 0.25 and node dimension: 0.1 accuracy =  0.1411764705882353 \n",
      "\n",
      "For in-bag: 0.25 and node dimension: 0.5 accuracy =  0.5058823529411764 \n",
      "\n",
      "For in-bag: 0.25 and node dimension: 0.8 accuracy =  0.4470588235294118 \n",
      "\n",
      "For in-bag: 0.5 and node dimension: 0.1 accuracy =  0.2235294117647059 \n",
      "\n",
      "For in-bag: 0.5 and node dimension: 0.5 accuracy =  0.49411764705882355 \n",
      "\n",
      "For in-bag: 0.5 and node dimension: 0.8 accuracy =  0.6588235294117647 \n",
      "\n",
      "For in-bag: 0.85 and node dimension: 0.1 accuracy =  0.1411764705882353 \n",
      "\n",
      "For in-bag: 0.85 and node dimension: 0.5 accuracy =  0.7058823529411765 \n",
      "\n",
      "For in-bag: 0.85 and node dimension: 0.8 accuracy =  0.611764705882353 \n",
      "\n"
     ]
    }
   ],
   "source": [
    "bag = [0.25,0.5,0.85]\n",
    "dim = [0.1,0.5,0.8]\n",
    "\n",
    "for boot in bag:\n",
    "    for d in dim:\n",
    "        model = sklearn.ensemble.BaggingClassifier(base_estimator=None, n_estimators=10, max_samples=boot, max_features=d, bootstrap=True,\n",
    "                                                    ).fit(X_train,Y_train)\n",
    "        pred = model.predict(X_test)\n",
    "\n",
    "        print(\"For in-bag:\",boot,\"and node dimension:\",d,\"accuracy = \" ,sklearn.metrics.accuracy_score(Y_test,pred),'\\n')\n",
    "        \n",
    "        "
   ]
  }
 ],
 "metadata": {
  "kernelspec": {
   "display_name": "Python 3.11.0rc1 64-bit",
   "language": "python",
   "name": "python3"
  },
  "language_info": {
   "codemirror_mode": {
    "name": "ipython",
    "version": 3
   },
   "file_extension": ".py",
   "mimetype": "text/x-python",
   "name": "python",
   "nbconvert_exporter": "python",
   "pygments_lexer": "ipython3",
   "version": "3.11.0 (main, Oct 24 2022, 19:56:13) [GCC 11.2.0]"
  },
  "orig_nbformat": 4,
  "vscode": {
   "interpreter": {
    "hash": "ead1b95f633dc9c51826328e1846203f51a198c6fb5f2884a80417ba131d4e82"
   }
  }
 },
 "nbformat": 4,
 "nbformat_minor": 2
}
