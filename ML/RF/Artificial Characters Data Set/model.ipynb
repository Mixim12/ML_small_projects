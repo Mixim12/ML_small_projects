{
 "cells": [
  {
   "cell_type": "code",
   "execution_count": 7,
   "metadata": {},
   "outputs": [],
   "source": [
    "from sklearn import ensemble\n",
    "import pandas as pd\n",
    "import sklearn.metrics"
   ]
  },
  {
   "cell_type": "code",
   "execution_count": 5,
   "metadata": {},
   "outputs": [],
   "source": [
    "#Slit data into train and test\n",
    "\n",
    "#Train data\n",
    "X_train = pd.read_csv('train.csv')\n",
    "\n",
    "Y_train = X_train.pop('0')\n",
    "\n",
    "#Test data\n",
    "X_test = pd.read_csv('test.csv')\n",
    "\n",
    "Y_test = X_test.pop('0')"
   ]
  },
  {
   "cell_type": "code",
   "execution_count": 6,
   "metadata": {},
   "outputs": [
    {
     "name": "stdout",
     "output_type": "stream",
     "text": [
      "For in-bag: 0.25 and node dimension: 0.1 accuracy =  0.7462 \n",
      "\n",
      "For in-bag: 0.25 and node dimension: 0.5 accuracy =  0.9658 \n",
      "\n",
      "For in-bag: 0.25 and node dimension: 0.8 accuracy =  0.9802 \n",
      "\n",
      "For in-bag: 0.5 and node dimension: 0.1 accuracy =  0.8482 \n",
      "\n",
      "For in-bag: 0.5 and node dimension: 0.5 accuracy =  0.955 \n",
      "\n",
      "For in-bag: 0.5 and node dimension: 0.8 accuracy =  0.9926 \n",
      "\n",
      "For in-bag: 0.85 and node dimension: 0.1 accuracy =  0.8216 \n",
      "\n",
      "For in-bag: 0.85 and node dimension: 0.5 accuracy =  0.9942 \n",
      "\n",
      "For in-bag: 0.85 and node dimension: 0.8 accuracy =  0.997 \n",
      "\n"
     ]
    }
   ],
   "source": [
    "#Setting parameters for Bagging Classifier\n",
    "#bag - procentul in-bag\n",
    "#dimmensionmension - numarul de dimmensionensiuni ale nodului\n",
    "\n",
    "bag = [0.25,0.5,0.85]\n",
    "dimmension = [0.1,0.5,0.8]\n",
    "\n",
    "for boot in bag:\n",
    "    for d in dimmension:\n",
    "        model = sklearn.ensemble.BaggingClassifier(base_estimator=None, n_estimators=10, max_samples=boot, max_features=d, bootstrap=True,\n",
    "                                                    ).fit(X_train,Y_train)\n",
    "        pred = model.predict(X_test)\n",
    "\n",
    "        #Print accuracy\n",
    "        print(\"in-bag:\",boot,\"and dimmensionension:\",d,\"accuracy = \" ,sklearn.metrics.accuracy_score(Y_test,pred),'\\n')"
   ]
  }
 ],
 "metadata": {
  "kernelspec": {
   "display_name": "Python 3",
   "language": "python",
   "name": "python3"
  },
  "language_info": {
   "codemirror_mode": {
    "name": "ipython",
    "version": 3
   },
   "file_extension": ".py",
   "mimetype": "text/x-python",
   "name": "python",
   "nbconvert_exporter": "python",
   "pygments_lexer": "ipython3",
   "version": "3.11.0"
  },
  "orig_nbformat": 4,
  "vscode": {
   "interpreter": {
    "hash": "ead1b95f633dc9c51826328e1846203f51a198c6fb5f2884a80417ba131d4e82"
   }
  }
 },
 "nbformat": 4,
 "nbformat_minor": 2
}
